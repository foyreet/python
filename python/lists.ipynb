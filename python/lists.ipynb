{
 "cells": [
  {
   "cell_type": "markdown",
   "id": "8db1f87b-b810-432b-9cb3-bb41cae165ee",
   "metadata": {},
   "source": [
    "Список одинаковых чисел\n",
    "Вам дано число 𝑁 и число 𝑋\n",
    ". Выведите число 𝑋 ровно 𝑁 раз в формате [X, X, X,... ,X]. Используйте функцию print() для вывода списка."
   ]
  },
  {
   "cell_type": "code",
   "execution_count": 1,
   "id": "776725df-af4e-46f3-8aab-366761ed65d2",
   "metadata": {},
   "outputs": [
    {
     "name": "stdin",
     "output_type": "stream",
     "text": [
      " 5\n",
      " 6\n"
     ]
    },
    {
     "name": "stdout",
     "output_type": "stream",
     "text": [
      "[6, 6, 6, 6, 6]\n"
     ]
    }
   ],
   "source": [
    "n = int(input())\n",
    "x = int(input())\n",
    "a = [x] * n\n",
    "print(a)"
   ]
  },
  {
   "cell_type": "markdown",
   "id": "d65f45ea-c12b-4a60-8a6f-c3ca2fa94d8a",
   "metadata": {},
   "source": [
    "Список квадратов\n",
    "Дано число 𝑁. Выведите 𝑁 квадратов чисел от 1 до 𝑁\n",
    "(включительно) в формате [1, 4, 9, 16,…, N**2]. Используйте функцию print() для вывода списка."
   ]
  },
  {
   "cell_type": "code",
   "execution_count": 15,
   "id": "bf887dd7-6242-43d4-8fe8-4d781759ab53",
   "metadata": {},
   "outputs": [
    {
     "name": "stdin",
     "output_type": "stream",
     "text": [
      " 5\n"
     ]
    },
    {
     "name": "stdout",
     "output_type": "stream",
     "text": [
      "[1, 4, 9, 16, 25]\n"
     ]
    }
   ],
   "source": [
    "n = int(input())\n",
    "a = []\n",
    "for i in range(1, n+1):\n",
    "    a.append(i**2)\n",
    "print(a)\n",
    "    \n",
    "    \n",
    "    "
   ]
  },
  {
   "attachments": {},
   "cell_type": "markdown",
   "id": "9802ee45-231e-4583-b9a3-e755d0b507a8",
   "metadata": {},
   "source": [
    "Чётные элементы\n",
    "Выведите все все элементы списка, значение которых является чётным числом.\n",
    "\n",
    "Входные данные\n",
    "\n",
    "Вводится список чисел. Все числа списка находятся на одной строке и не превосходят по модулю 1000\n"
   ]
  },
  {
   "cell_type": "code",
   "execution_count": 23,
   "id": "ad286f8b-aeb8-4b2a-b494-a2073a48f8eb",
   "metadata": {},
   "outputs": [
    {
     "name": "stdin",
     "output_type": "stream",
     "text": [
      " 1 2 3 4 5\n"
     ]
    },
    {
     "name": "stdout",
     "output_type": "stream",
     "text": [
      "2 4\n"
     ]
    }
   ],
   "source": [
    "a = input().split()\n",
    "result = []\n",
    "for i in range(len(a)):\n",
    "    a[i] = int(a[i])\n",
    "    if a[i] % 2 == 0:\n",
    "        result.append(a[i])\n",
    "print(\" \".join(map(str, result)))\n"
   ]
  },
  {
   "cell_type": "markdown",
   "id": "fdf73ba6-6ebc-4693-a78f-e3ef964737a9",
   "metadata": {},
   "source": [
    "Чётные индексы\n",
    "Выведите все элементы списка с чётными индексами (то есть 𝐴[0],𝐴[2],𝐴[4],...\n",
    ").\n",
    "\n",
    "Программа должна быть эффективной и не выполнять лишних действий!\n",
    "\n",
    "Входные данные\n",
    "\n",
    "Вводится список чисел. Все числа списка находятся на одной строке и не превосходят по модулю 1000\n"
   ]
  },
  {
   "cell_type": "code",
   "execution_count": 26,
   "id": "e1400f8b-5f1e-4444-936f-e9639ed44b94",
   "metadata": {},
   "outputs": [
    {
     "name": "stdin",
     "output_type": "stream",
     "text": [
      " 1 2 3 4 5\n"
     ]
    },
    {
     "name": "stdout",
     "output_type": "stream",
     "text": [
      "1 3 5\n"
     ]
    }
   ],
   "source": [
    "a = input().split()\n",
    "result = []\n",
    "for i in range(len(a)):\n",
    "    a[i] = int(a[i])\n",
    "    if i % 2 == 0:\n",
    "        result.append(a[i])\n",
    "print(\" \".join(map(str, result)))"
   ]
  },
  {
   "cell_type": "markdown",
   "id": "ea0d73a7-3917-48b8-84b1-03298d3d4b69",
   "metadata": {},
   "source": []
  },
  {
   "cell_type": "code",
   "execution_count": null,
   "id": "e07e298b-e5bd-45b2-8601-9eadacabb532",
   "metadata": {},
   "outputs": [],
   "source": []
  },
  {
   "cell_type": "code",
   "execution_count": null,
   "id": "7a14ff8d-fb0e-454c-88d5-09291f1d6839",
   "metadata": {},
   "outputs": [],
   "source": []
  },
  {
   "cell_type": "code",
   "execution_count": null,
   "id": "39029b0d-a341-4e74-b73d-8efcb32f451a",
   "metadata": {},
   "outputs": [],
   "source": []
  },
  {
   "cell_type": "code",
   "execution_count": null,
   "id": "619524d1-7d4d-4435-bcc8-890ddde1f45f",
   "metadata": {},
   "outputs": [],
   "source": []
  },
  {
   "cell_type": "code",
   "execution_count": null,
   "id": "584153c8-af92-4345-8ab4-f7d0a3a3669f",
   "metadata": {},
   "outputs": [],
   "source": []
  },
  {
   "cell_type": "code",
   "execution_count": null,
   "id": "d3cae099-9ff7-420d-8f7a-989f4a7c6d95",
   "metadata": {},
   "outputs": [],
   "source": []
  },
  {
   "cell_type": "code",
   "execution_count": null,
   "id": "af5cd7aa-b426-4a21-9aff-c2f5e2c32890",
   "metadata": {},
   "outputs": [],
   "source": []
  },
  {
   "cell_type": "code",
   "execution_count": null,
   "id": "3a8f8783-fc47-4461-9660-b10bd4a65f59",
   "metadata": {},
   "outputs": [],
   "source": []
  },
  {
   "cell_type": "code",
   "execution_count": null,
   "id": "b9b1df4e-b4d3-4557-b1c1-87c69d9835fc",
   "metadata": {},
   "outputs": [],
   "source": []
  }
 ],
 "metadata": {
  "kernelspec": {
   "display_name": "Python 3 (ipykernel)",
   "language": "python",
   "name": "python3"
  },
  "language_info": {
   "codemirror_mode": {
    "name": "ipython",
    "version": 3
   },
   "file_extension": ".py",
   "mimetype": "text/x-python",
   "name": "python",
   "nbconvert_exporter": "python",
   "pygments_lexer": "ipython3",
   "version": "3.11.7"
  }
 },
 "nbformat": 4,
 "nbformat_minor": 5
}
