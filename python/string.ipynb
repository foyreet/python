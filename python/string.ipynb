{
 "cells": [
  {
   "cell_type": "code",
   "execution_count": 3,
   "id": "68bf7396-caa0-4e4a-b9d6-9652d106d041",
   "metadata": {},
   "outputs": [
    {
     "name": "stdout",
     "output_type": "stream",
     "text": [
      "Hello World!\n"
     ]
    }
   ],
   "source": [
    "s = 'Hello' + ' World!'\n",
    "print(s)"
   ]
  },
  {
   "cell_type": "code",
   "execution_count": 4,
   "id": "23420230-441c-4f90-babf-3769909e3b47",
   "metadata": {},
   "outputs": [
    {
     "name": "stdout",
     "output_type": "stream",
     "text": [
      "AAAAAAAAAAAAAAAAAAAAAAAAAAAAAAAAAAAAAAAAAAAAAAAAAA\n"
     ]
    }
   ],
   "source": [
    "s = 'A' * 50\n",
    "print(s)"
   ]
  },
  {
   "cell_type": "code",
   "execution_count": 5,
   "id": "243ca33f-7a9b-45e4-a19e-6752927b08b3",
   "metadata": {},
   "outputs": [
    {
     "name": "stdin",
     "output_type": "stream",
     "text": [
      " s\n"
     ]
    },
    {
     "name": "stdout",
     "output_type": "stream",
     "text": [
      "s\n"
     ]
    }
   ],
   "source": [
    "s = input()\n",
    "print(s)"
   ]
  },
  {
   "cell_type": "code",
   "execution_count": 6,
   "id": "ee47d82f-4de0-44e1-a617-3b944df3abb8",
   "metadata": {},
   "outputs": [
    {
     "name": "stdout",
     "output_type": "stream",
     "text": [
      "o\n"
     ]
    }
   ],
   "source": [
    "s = 'Hello'\n",
    "print(s[-1]) # обращаюсь к последнему символу строки"
   ]
  },
  {
   "cell_type": "code",
   "execution_count": 19,
   "id": "f81a06bc-58b6-430c-9811-70529793963b",
   "metadata": {},
   "outputs": [
    {
     "name": "stdin",
     "output_type": "stream",
     "text": [
      " 1+2-6\n"
     ]
    },
    {
     "name": "stdout",
     "output_type": "stream",
     "text": [
      "-3\n"
     ]
    }
   ],
   "source": [
    "s = input()\n",
    "ans = int(s[0])\n",
    "for i in range(2, len(s), 2):\n",
    "    if s[i-1] == '+':\n",
    "        ans += int(s[i])\n",
    "    elif s[i-1] == '-':\n",
    "        ans -= int(s[i])\n",
    "print(ans)\n",
    "        "
   ]
  },
  {
   "cell_type": "code",
   "execution_count": null,
   "id": "c9821f70-9281-48c2-ad4b-7230374cd0bc",
   "metadata": {},
   "outputs": [],
   "source": [
    "Срезы"
   ]
  },
  {
   "cell_type": "code",
   "execution_count": 28,
   "id": "af5a96a8-6688-4c4f-bed6-ce119a767ec2",
   "metadata": {},
   "outputs": [
    {
     "name": "stdout",
     "output_type": "stream",
     "text": [
      "da\n",
      "dds\n",
      "adadssa\n",
      "aasa\n"
     ]
    }
   ],
   "source": [
    "s = 'adadssa'\n",
    "print(s[1:3]) # срез\n",
    "print(s[1:9:2]) # срез с шагом 2\n",
    "print(s[:]) # вся строка\n",
    "print(s[::2])"
   ]
  },
  {
   "cell_type": "markdown",
   "id": "d7d4e388-a661-42fb-8194-332ac7202559",
   "metadata": {},
   "source": [
    "Делаем срезы\n",
    "Посчитайте заданные характеристики строки. Циклы использовать нельзя.\n",
    "\n",
    "Входные данные\n",
    "\n",
    "Дана строка, состоящая из строчных и прописных букв латинского алфавита. Гарантируется, что длина строки не меньше 5\n",
    " и не больше 100\n",
    " символов.\n",
    "\n",
    "Выходные данные\n",
    "\n",
    "Сначала выведите третий символ этой строки.\n",
    "\n",
    "Во второй строке выведите предпоследний символ этой строки.\n",
    "\n",
    "В третьей строке выведите первые пять символов этой строки.\n",
    "\n",
    "В четвёртой строке выведите всю строку, кроме последних двух символов.\n",
    "\n",
    "В пятой строке выведите все символы с чётными индексами (считая, что индексация начинается с 0\n",
    ", поэтому символы выводятся начиная с первого).\n",
    "\n",
    "В шестой строке выведите все символы с нечётными индексами, то есть начиная со второго символа строки.\n",
    "\n",
    "В седьмой строке выведите все символы в обратном порядке.\n",
    "\n",
    "В восьмой строке выведите все символы строки через один в обратном порядке, начиная с последнего.\n",
    "\n",
    "В девятой строке выведите длину данной строки."
   ]
  },
  {
   "cell_type": "code",
   "execution_count": 31,
   "id": "b94a2015-c9f1-44a9-aa2c-1e5a7a6160ce",
   "metadata": {},
   "outputs": [
    {
     "name": "stdin",
     "output_type": "stream",
     "text": [
      " Abrakadabra\n"
     ]
    },
    {
     "name": "stdout",
     "output_type": "stream",
     "text": [
      "r\n",
      "r\n",
      "Abrak\n",
      "Abrakadab\n",
      "Arkdba\n",
      "baaar\n",
      "arbadakarbA\n",
      "abdkrA\n",
      "11\n"
     ]
    }
   ],
   "source": [
    "s = input()\n",
    "print(s[2])\n",
    "print(s[len(s) - 2])\n",
    "print(s[:5])\n",
    "print(s[:len(s) - 2])\n",
    "print(s[::2])\n",
    "print(s[1::2])\n",
    "print(s[::-1])\n",
    "print(s[::-2])\n",
    "print(len(s))\n"
   ]
  },
  {
   "cell_type": "markdown",
   "id": "615a522f-6804-428e-8d78-3d4ddcc10204",
   "metadata": {},
   "source": [
    "Палиндром\n",
    "Напишите программу, которая определяет, является ли введённое слово (без пробелов) палиндромом, то есть верно ли, что оно читается одинаково слева направо и справа налево.\n",
    "\n",
    "Входные данные\n",
    "\n",
    "Входная строка содержит слово — последовательность символов без пробелов.\n",
    "\n",
    "Выходные данные\n",
    "\n",
    "Программа должна вывести слово YES, если введённое слово — палиндром, и слово NO, если оно не является палиндромом.\n",
    "\n"
   ]
  },
  {
   "cell_type": "code",
   "execution_count": 42,
   "id": "ed2c023b-c14d-495e-8912-0d1b111f810d",
   "metadata": {},
   "outputs": [
    {
     "name": "stdin",
     "output_type": "stream",
     "text": [
      " kazak\n"
     ]
    },
    {
     "name": "stdout",
     "output_type": "stream",
     "text": [
      "YES\n"
     ]
    }
   ],
   "source": [
    "s = input()\n",
    "ans = 1\n",
    "for i in range(len(s)//2):\n",
    "    if s[i] == s[len(s)-1-i]:\n",
    "        ans *= 1\n",
    "    else:\n",
    "        ans *= 0\n",
    "if ans == 1:\n",
    "    print('YES')\n",
    "else:\n",
    "    print('NO')"
   ]
  },
  {
   "cell_type": "markdown",
   "id": "c21acb23-0062-404e-91b6-5b65ec7af33a",
   "metadata": {},
   "source": [
    "Сначала чётные позиции, потом нечётные\n",
    "Дана строка. Выведите на одной строке сначала символы, стоящие на чётных позициях, а потом на нечётных.\n",
    "\n",
    "Входные данные\n",
    "\n",
    "На вход подается строка, состоящая из строчных букв латинского алфавита. Длина строки не превышает 100\n",
    " символов.\n",
    "\n",
    "Выходные данные\n",
    "\n",
    "Выведите ответ на задачу."
   ]
  },
  {
   "cell_type": "code",
   "execution_count": 45,
   "id": "c31e9713-fe89-4c86-9d02-6c7b48fe3125",
   "metadata": {},
   "outputs": [
    {
     "name": "stdin",
     "output_type": "stream",
     "text": [
      " abacaba\n"
     ]
    },
    {
     "name": "stdout",
     "output_type": "stream",
     "text": [
      "aaaabcb\n"
     ]
    }
   ],
   "source": [
    "s = input()\n",
    "result = s[::2] + s[1::2]\n",
    "print(result)"
   ]
  },
  {
   "cell_type": "markdown",
   "id": "4cc8cb66-43db-42e4-8a51-d23f3463c871",
   "metadata": {},
   "source": [
    "Метод find находит индекс первого вхождения подстроки в строке"
   ]
  },
  {
   "cell_type": "code",
   "execution_count": 46,
   "id": "84289402-ef06-4338-9880-50c48e9d679e",
   "metadata": {},
   "outputs": [
    {
     "name": "stdout",
     "output_type": "stream",
     "text": [
      "2\n"
     ]
    }
   ],
   "source": [
    "s = 'abrdjjdsj'\n",
    "print(s.find('rdj')) # выводит индекс первого вхождения подстроки в строке"
   ]
  },
  {
   "cell_type": "code",
   "execution_count": 51,
   "id": "64870654-9b7b-458c-a757-6afa8d26ed5b",
   "metadata": {},
   "outputs": [
    {
     "name": "stdout",
     "output_type": "stream",
     "text": [
      "-1\n"
     ]
    }
   ],
   "source": [
    "s = 'abrdjjdsj'\n",
    "print(s.find('k')) # выводит -1 если такой подстроки нет"
   ]
  },
  {
   "cell_type": "code",
   "execution_count": 54,
   "id": "afe7b7ec-55fe-481a-8745-30d4525449e0",
   "metadata": {},
   "outputs": [
    {
     "name": "stdout",
     "output_type": "stream",
     "text": [
      "4\n",
      "7\n"
     ]
    }
   ],
   "source": [
    "s = 'abrdjjdsj'\n",
    "print(s.find('jj',1,6)) # поиск подстроки в срезе 1:6\n",
    "print(s.find('s',2)) # поиск подстроки в срезе 2:len(s) - 1"
   ]
  },
  {
   "cell_type": "markdown",
   "id": "f5a77d82-d9c6-4047-a6f4-52682f9bafa2",
   "metadata": {},
   "source": [
    "Метод rfind находит последний индекс вхождения подстроки в строке"
   ]
  },
  {
   "cell_type": "code",
   "execution_count": 50,
   "id": "f3eb5e35-0086-45a0-9d11-7a5acb360bd6",
   "metadata": {},
   "outputs": [
    {
     "name": "stdout",
     "output_type": "stream",
     "text": [
      "6\n"
     ]
    }
   ],
   "source": [
    "s = 'ababdnab'\n",
    "print(s.rfind('ab'))"
   ]
  },
  {
   "cell_type": "code",
   "execution_count": 52,
   "id": "fa2249f9-45c3-4265-a8a5-83f5825cf6d3",
   "metadata": {},
   "outputs": [
    {
     "name": "stdout",
     "output_type": "stream",
     "text": [
      "-1\n"
     ]
    }
   ],
   "source": [
    "s = 'ababdnab'\n",
    "print(s.rfind('nh')) # выводит -1 если такой подстроки нет"
   ]
  },
  {
   "cell_type": "markdown",
   "id": "4f801cde-f77a-4c8f-8b59-1b554f338f3c",
   "metadata": {},
   "source": [
    "Метод count (кол-во вхождений подстроки в строку)"
   ]
  },
  {
   "cell_type": "code",
   "execution_count": 57,
   "id": "f7d2a648-5625-4405-878e-7c9afa130476",
   "metadata": {},
   "outputs": [
    {
     "name": "stdout",
     "output_type": "stream",
     "text": [
      "3\n",
      "3\n",
      "2\n"
     ]
    }
   ],
   "source": [
    "s = 'ababdnab'\n",
    "print(s.count('a'))\n",
    "print(s.count('ab'))\n",
    "print(s.count('a',2,7)) # подсчёт кол-ва подстроки на срезе 2:7"
   ]
  },
  {
   "cell_type": "code",
   "execution_count": 58,
   "id": "e6a1728d-03ff-46f4-8a17-5c5e5c74126e",
   "metadata": {},
   "outputs": [
    {
     "name": "stdout",
     "output_type": "stream",
     "text": [
      "4\n"
     ]
    }
   ],
   "source": [
    "s = 'aaaaaaaa'\n",
    "print(s.count('aa'))"
   ]
  },
  {
   "cell_type": "markdown",
   "id": "ac9a0b8a-fc14-4114-848b-9b3249feffa3",
   "metadata": {},
   "source": [
    "Метод replace заменяется одну подстроку на другую "
   ]
  },
  {
   "cell_type": "code",
   "execution_count": 59,
   "id": "2a272d59-5b8d-4245-a4ec-0b2699b02d62",
   "metadata": {},
   "outputs": [
    {
     "name": "stdout",
     "output_type": "stream",
     "text": [
      "eedne\n"
     ]
    }
   ],
   "source": [
    "s = 'ababdnab'\n",
    "t = s.replace('ab', 'e')\n",
    "print(t)"
   ]
  },
  {
   "cell_type": "code",
   "execution_count": 64,
   "id": "cf8e6e77-6b3e-4fc3-b8fe-afd580c714be",
   "metadata": {},
   "outputs": [
    {
     "name": "stdout",
     "output_type": "stream",
     "text": [
      "AbAbdnAb\n",
      "bbdnb\n",
      "bbdnab\n"
     ]
    }
   ],
   "source": [
    "s = 'ababdnab'\n",
    "print(s.replace('a', 'A'))\n",
    "print(s.replace('a', ''))\n",
    "print(s.replace('a', '', 2)) # 3-ий параметр максимальное кол-во замен, которое можем сделать"
   ]
  },
  {
   "cell_type": "code",
   "execution_count": 65,
   "id": "9672c306-321c-4156-a34c-90110bb45000",
   "metadata": {},
   "outputs": [
    {
     "name": "stdout",
     "output_type": "stream",
     "text": [
      "aaaaaa\n"
     ]
    }
   ],
   "source": [
    "s = 'aaa'\n",
    "print(s.replace('a', 'aa'))"
   ]
  },
  {
   "cell_type": "markdown",
   "id": "8c704c82-f2d0-4497-922b-a33825c3cbd7",
   "metadata": {},
   "source": [
    "Совпадающие начало и конец\n",
    "Дана строка. Требуется найти самую длинную её подстроку, у которой совпадает первый и последний символы. Если подходит несколько подстрок, то выведите любую из них.\n",
    "\n",
    "Входные данные\n",
    "\n",
    "На вход подаётся одна строка из строчных латинских букв длиной не более 100\n",
    " символов."
   ]
  },
  {
   "cell_type": "code",
   "execution_count": 108,
   "id": "f4de1082-61d3-4c7f-8e97-d27017d75757",
   "metadata": {},
   "outputs": [
    {
     "name": "stdin",
     "output_type": "stream",
     "text": [
      " misis\n"
     ]
    },
    {
     "name": "stdout",
     "output_type": "stream",
     "text": [
      "m\n"
     ]
    }
   ],
   "source": [
    "s = input()\n",
    "max_len = 0\n",
    "for i in range(len(s)):\n",
    "    for j in range(i+1, len(s)):\n",
    "        if s[i] == s[j]:\n",
    "            current_sub = s[i:j+1]\n",
    "            current_length = len(current_sub)\n",
    "            if current_length > max_len:\n",
    "                max_len = current_length\n",
    "                result = current_sub\n",
    "print(result)"
   ]
  },
  {
   "cell_type": "markdown",
   "id": "67c7ebda-5ce3-4ecb-ae1c-f41aa3d5131b",
   "metadata": {},
   "source": [
    "Замена подстроки\n",
    "Дана строка. Замените в этой строке все цифры 1\n",
    " на слово 'one'."
   ]
  },
  {
   "cell_type": "code",
   "execution_count": 66,
   "id": "27706938-084a-4bda-8e9c-bb0609430b39",
   "metadata": {},
   "outputs": [
    {
     "name": "stdin",
     "output_type": "stream",
     "text": [
      " 1+1=2\n"
     ]
    },
    {
     "name": "stdout",
     "output_type": "stream",
     "text": [
      "one+one=2\n"
     ]
    }
   ],
   "source": [
    "s = input()\n",
    "print(s.replace('1', 'one'))"
   ]
  },
  {
   "cell_type": "markdown",
   "id": "00ac7fdb-5685-485a-ac32-9201c7947884",
   "metadata": {},
   "source": [
    "Количество слов\n",
    "Дана строка, состоящая из слов, разделённых пробелами. Определите, сколько в ней слов. Используйте для решения задачи метод count."
   ]
  },
  {
   "cell_type": "code",
   "execution_count": 68,
   "id": "855998df-92ef-438c-ada0-a070cd72e3ea",
   "metadata": {},
   "outputs": [
    {
     "name": "stdin",
     "output_type": "stream",
     "text": [
      " Hello world\n"
     ]
    },
    {
     "name": "stdout",
     "output_type": "stream",
     "text": [
      "2\n"
     ]
    }
   ],
   "source": [
    "s = input()\n",
    "count_word = s.count(' ') + 1\n",
    "print(count_word)"
   ]
  },
  {
   "cell_type": "markdown",
   "id": "59d9c59e-57c4-4d3f-9cda-5e590ec0382b",
   "metadata": {},
   "source": [
    "Замена внутри фрагмента\n",
    "Дана строка. Замените в этой строке все появления буквы ℎ на букву 𝐻\n",
    ", кроме первого и последнего вхождения."
   ]
  },
  {
   "cell_type": "code",
   "execution_count": 81,
   "id": "df80a7fa-28bf-4dca-819a-56754bbc7000",
   "metadata": {},
   "outputs": [
    {
     "name": "stdin",
     "output_type": "stream",
     "text": [
      " In the hole in the ground there lived a hobbit\n"
     ]
    },
    {
     "name": "stdout",
     "output_type": "stream",
     "text": [
      "In the Hole in tHe ground tHere lived a hobbit\n"
     ]
    }
   ],
   "source": [
    "s = input()\n",
    "index_first = s.find('h') + 1\n",
    "index_last = s.rfind('h') \n",
    "t = s[index_first:index_last]\n",
    "t = t.replace('h', 'H')\n",
    "t1 = s[:index_first]\n",
    "t2 = s[index_last:]\n",
    "print(t1 + t + t2)"
   ]
  },
  {
   "cell_type": "markdown",
   "id": "5e8f0cb0-bce2-4351-9d53-a084d3d600f8",
   "metadata": {},
   "source": [
    "Вставка символов\n",
    "Дана строка. Получите новую строку, вставив между всеми парами соседних символов исходной строки символ ∗\n"
   ]
  },
  {
   "cell_type": "code",
   "execution_count": 92,
   "id": "c54a8770-3f70-4fbe-85d8-1ea21ee6f4e2",
   "metadata": {},
   "outputs": [
    {
     "name": "stdin",
     "output_type": "stream",
     "text": [
      " ddsfsd\n"
     ]
    },
    {
     "name": "stdout",
     "output_type": "stream",
     "text": [
      "d*d*s*f*s*d\n"
     ]
    }
   ],
   "source": [
    "s = input()\n",
    "s = s.replace('','*', len(s))\n",
    "s = s.replace('*', '', 1)\n",
    "print(s)"
   ]
  },
  {
   "cell_type": "code",
   "execution_count": null,
   "id": "d7654d79-9c81-4820-9875-5e4e237e5b36",
   "metadata": {},
   "outputs": [],
   "source": []
  }
 ],
 "metadata": {
  "kernelspec": {
   "display_name": "Python 3 (ipykernel)",
   "language": "python",
   "name": "python3"
  },
  "language_info": {
   "codemirror_mode": {
    "name": "ipython",
    "version": 3
   },
   "file_extension": ".py",
   "mimetype": "text/x-python",
   "name": "python",
   "nbconvert_exporter": "python",
   "pygments_lexer": "ipython3",
   "version": "3.11.7"
  }
 },
 "nbformat": 4,
 "nbformat_minor": 5
}
