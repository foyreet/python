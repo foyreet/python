{
 "cells": [
  {
   "cell_type": "code",
   "execution_count": 1,
   "id": "5fa43d9d-48a2-458b-a4ee-f0936267c98a",
   "metadata": {},
   "outputs": [
    {
     "name": "stdout",
     "output_type": "stream",
     "text": [
      "The Zen of Python, by Tim Peters\n",
      "\n",
      "Beautiful is better than ugly.\n",
      "Explicit is better than implicit.\n",
      "Simple is better than complex.\n",
      "Complex is better than complicated.\n",
      "Flat is better than nested.\n",
      "Sparse is better than dense.\n",
      "Readability counts.\n",
      "Special cases aren't special enough to break the rules.\n",
      "Although practicality beats purity.\n",
      "Errors should never pass silently.\n",
      "Unless explicitly silenced.\n",
      "In the face of ambiguity, refuse the temptation to guess.\n",
      "There should be one-- and preferably only one --obvious way to do it.\n",
      "Although that way may not be obvious at first unless you're Dutch.\n",
      "Now is better than never.\n",
      "Although never is often better than *right* now.\n",
      "If the implementation is hard to explain, it's a bad idea.\n",
      "If the implementation is easy to explain, it may be a good idea.\n",
      "Namespaces are one honking great idea -- let's do more of those!\n"
     ]
    }
   ],
   "source": [
    "import this"
   ]
  },
  {
   "cell_type": "code",
   "execution_count": null,
   "id": "dea5ac10-c839-4411-aa28-46fbccb20fee",
   "metadata": {},
   "outputs": [],
   "source": [
    "print('Hello, World!')"
   ]
  },
  {
   "cell_type": "code",
   "execution_count": 2,
   "id": "4c9007c0-5c19-4878-a394-6582e3659cda",
   "metadata": {},
   "outputs": [
    {
     "name": "stdout",
     "output_type": "stream",
     "text": [
      "295811224608098629060044695716103590786339687135372992239556207050657350796238924261053837248378050186443647759070955993120820899330381760937027212482840944941362110665443775183495726811929203861182015218323892077355983393191208928867652655993602487903113708549402668624521100611794270340232766099317098048887493809023127398253860618772619035009883272941129544640111837184\n"
     ]
    }
   ],
   "source": [
    "print(2**1234)"
   ]
  },
  {
   "cell_type": "code",
   "execution_count": 5,
   "id": "72173594-4f12-4f7a-9c77-c635d24872e6",
   "metadata": {},
   "outputs": [
    {
     "data": {
      "text/plain": [
       "300"
      ]
     },
     "execution_count": 5,
     "metadata": {},
     "output_type": "execute_result"
    }
   ],
   "source": [
    "50-(16-256)+10 "
   ]
  },
  {
   "cell_type": "code",
   "execution_count": 6,
   "id": "a965c0f3-06f1-44fb-a33b-899102ce0b7c",
   "metadata": {},
   "outputs": [
    {
     "name": "stdout",
     "output_type": "stream",
     "text": [
      "5 10\n"
     ]
    }
   ],
   "source": [
    "a = 10\n",
    "b = 5\n",
    "t = a\n",
    "a = b\n",
    "b = t\n",
    "print(a, b)"
   ]
  },
  {
   "cell_type": "code",
   "execution_count": 8,
   "id": "fb5f4acb-5d84-43ec-8416-2ccb58b674ef",
   "metadata": {},
   "outputs": [
    {
     "name": "stdout",
     "output_type": "stream",
     "text": [
      "sssss\n"
     ]
    }
   ],
   "source": [
    "print('s'* 5)"
   ]
  },
  {
   "cell_type": "code",
   "execution_count": 10,
   "id": "e6ab776b-05a2-4912-97f7-a4a10cea21a4",
   "metadata": {},
   "outputs": [
    {
     "name": "stdout",
     "output_type": "stream",
     "text": [
      "5H\n"
     ]
    }
   ],
   "source": [
    "print(str(5) + 'H')"
   ]
  },
  {
   "cell_type": "code",
   "execution_count": 12,
   "id": "527522b0-08cb-4b4f-bdc1-e683ef26cbee",
   "metadata": {},
   "outputs": [
    {
     "name": "stdout",
     "output_type": "stream",
     "text": [
      "134 134.0\n"
     ]
    }
   ],
   "source": [
    "s = '134'\n",
    "a = int(s)\n",
    "b = float(s)\n",
    "print(a, b)"
   ]
  },
  {
   "cell_type": "code",
   "execution_count": null,
   "id": "a832fd25-36f3-467b-bc31-73ec52b7f65c",
   "metadata": {},
   "outputs": [],
   "source": [
    "s = 'Hello'\n",
    "print(s*1234)"
   ]
  },
  {
   "cell_type": "code",
   "execution_count": 13,
   "id": "e955977e-a2e9-47e7-8d92-1b475dc416dd",
   "metadata": {},
   "outputs": [
    {
     "name": "stdout",
     "output_type": "stream",
     "text": [
      "12345679012345679012345679012345679012345679012345679012345679012345679012345679012345679012345679012345679012345679012345654320987654320987654320987654320987654320987654320987654320987654320987654320987654320987654320987654320987654320987654321\n"
     ]
    }
   ],
   "source": [
    "s = '1'\n",
    "a = int(s * 123)\n",
    "print(a**2)"
   ]
  },
  {
   "cell_type": "code",
   "execution_count": 14,
   "id": "11491fdf-0d88-488a-9bbd-3937212e48e5",
   "metadata": {},
   "outputs": [
    {
     "name": "stdout",
     "output_type": "stream",
     "text": [
      "332525673008630139236641927752800275225366363908522979927541820593491175118207054808415820618441713434182075011047745707643609963324345996399691048382836057750769272424453155708791155542145157857928581524560315017891262701454257965087890625\n"
     ]
    }
   ],
   "source": [
    "s = str(15**10) * 10\n",
    "a = int(s)**2\n",
    "print(a)"
   ]
  },
  {
   "cell_type": "code",
   "execution_count": 18,
   "id": "f7786bd9-6941-4140-8c69-3467f75c4da1",
   "metadata": {},
   "outputs": [
    {
     "name": "stdin",
     "output_type": "stream",
     "text": [
      " 2\n",
      " 3\n"
     ]
    },
    {
     "name": "stdout",
     "output_type": "stream",
     "text": [
      "5\n"
     ]
    }
   ],
   "source": [
    "a = int(input())\n",
    "b = int(input())\n",
    "print(a+b)"
   ]
  },
  {
   "cell_type": "code",
   "execution_count": 21,
   "id": "9ce94abe-3faf-4373-9120-31cbbba536ad",
   "metadata": {},
   "outputs": [
    {
     "name": "stdin",
     "output_type": "stream",
     "text": [
      " 4\n",
      " 10\n"
     ]
    },
    {
     "name": "stdout",
     "output_type": "stream",
     "text": [
      "10\n",
      "4\n"
     ]
    }
   ],
   "source": [
    "a=int(input())\n",
    "b=int(input())\n",
    "a = a + b\n",
    "b = a - b\n",
    "a = a - b\n",
    "\n",
    "print(a)\n",
    "print(b)"
   ]
  },
  {
   "cell_type": "code",
   "execution_count": 23,
   "id": "18eb4203-dd64-46e0-819c-3515311e9a04",
   "metadata": {},
   "outputs": [
    {
     "name": "stdin",
     "output_type": "stream",
     "text": [
      " 4\n"
     ]
    },
    {
     "name": "stdout",
     "output_type": "stream",
     "text": [
      "The next number for the number 4 is 5.\n",
      "The previous number for the number 4 is 3.\n"
     ]
    }
   ],
   "source": [
    "a = int(input())\n",
    "print(\"The next number for the number \" + str(a) + ' is ' + str(a+1) + '.' + \n",
    "      \"\\nThe previous number for the number \" + str(a) + ' is ' + str(a-1) + '.')"
   ]
  },
  {
   "cell_type": "code",
   "execution_count": 24,
   "id": "465079e9-5b87-4f27-85c5-6fa89d7d9a6e",
   "metadata": {},
   "outputs": [
    {
     "data": {
      "text/plain": [
       "4.333333333333333"
      ]
     },
     "execution_count": 24,
     "metadata": {},
     "output_type": "execute_result"
    }
   ],
   "source": [
    "13/3"
   ]
  },
  {
   "cell_type": "code",
   "execution_count": 25,
   "id": "cbb2cf31-c2ff-4519-b758-59acb5136e23",
   "metadata": {},
   "outputs": [
    {
     "data": {
      "text/plain": [
       "4"
      ]
     },
     "execution_count": 25,
     "metadata": {},
     "output_type": "execute_result"
    }
   ],
   "source": [
    "13//3"
   ]
  },
  {
   "cell_type": "code",
   "execution_count": 26,
   "id": "7c220ffc-0de7-4276-a3b3-c610dee8bb1e",
   "metadata": {},
   "outputs": [
    {
     "data": {
      "text/plain": [
       "1"
      ]
     },
     "execution_count": 26,
     "metadata": {},
     "output_type": "execute_result"
    }
   ],
   "source": [
    "13 % 3"
   ]
  },
  {
   "cell_type": "code",
   "execution_count": 27,
   "id": "9c6c70cf-5ee1-40fe-9ca8-82ab02323e1a",
   "metadata": {},
   "outputs": [
    {
     "data": {
      "text/plain": [
       "-5"
      ]
     },
     "execution_count": 27,
     "metadata": {},
     "output_type": "execute_result"
    }
   ],
   "source": [
    "-13 // 3"
   ]
  },
  {
   "cell_type": "code",
   "execution_count": 28,
   "id": "3fd078c5-4d12-435c-b3b3-33cf550653b0",
   "metadata": {},
   "outputs": [
    {
     "data": {
      "text/plain": [
       "2"
      ]
     },
     "execution_count": 28,
     "metadata": {},
     "output_type": "execute_result"
    }
   ],
   "source": [
    "-13 % 3"
   ]
  },
  {
   "cell_type": "code",
   "execution_count": 29,
   "id": "c6f5c335-982d-43d5-8ae6-8d10479c0679",
   "metadata": {},
   "outputs": [
    {
     "name": "stdin",
     "output_type": "stream",
     "text": [
      " 3\n",
      " 14\n"
     ]
    },
    {
     "name": "stdout",
     "output_type": "stream",
     "text": [
      "4 2\n"
     ]
    }
   ],
   "source": [
    "n = int(input())\n",
    "k = int(input())\n",
    "print(k // n, k % n)"
   ]
  },
  {
   "cell_type": "code",
   "execution_count": 31,
   "id": "402ba1b2-113b-4f5b-b37c-7166daf7291b",
   "metadata": {},
   "outputs": [
    {
     "name": "stdin",
     "output_type": "stream",
     "text": [
      " 20\n",
      " 10\n",
      " 55\n"
     ]
    },
    {
     "name": "stdout",
     "output_type": "stream",
     "text": [
      "3\n"
     ]
    }
   ],
   "source": [
    "a = int(input())\n",
    "b = int(input())\n",
    "c = int(input())\n",
    "print((c - a) // b)"
   ]
  },
  {
   "cell_type": "code",
   "execution_count": 32,
   "id": "06e6b86a-3c68-457d-8b82-8e615f22b26a",
   "metadata": {},
   "outputs": [
    {
     "name": "stdin",
     "output_type": "stream",
     "text": [
      " 1234\n"
     ]
    },
    {
     "name": "stdout",
     "output_type": "stream",
     "text": [
      "10\n"
     ]
    }
   ],
   "source": [
    "a = int(input())\n",
    "d1 = a % 10\n",
    "d2 = (a // 10) % 10\n",
    "d3 = (a // 100) % 10\n",
    "d4 = a // 1000\n",
    "print(d1 + d2 + d3 + d4)"
   ]
  },
  {
   "cell_type": "code",
   "execution_count": 44,
   "id": "6c61dfa8-5afe-421c-bb5d-e20447c1e050",
   "metadata": {},
   "outputs": [
    {
     "name": "stdin",
     "output_type": "stream",
     "text": [
      " 1\n",
      " 40\n",
      " 2\n"
     ]
    },
    {
     "name": "stdout",
     "output_type": "stream",
     "text": [
      "162\n"
     ]
    }
   ],
   "source": [
    "d = int(input())\n",
    "R = int(input())\n",
    "n = int(input())\n",
    "result = 2*R*n+2*d\n",
    "print(result)"
   ]
  },
  {
   "cell_type": "code",
   "execution_count": 52,
   "id": "fe3db40a-1f9b-4de5-a438-9218bbd78865",
   "metadata": {},
   "outputs": [
    {
     "name": "stdin",
     "output_type": "stream",
     "text": [
      " 2\n",
      " 50\n",
      " 4\n"
     ]
    },
    {
     "name": "stdout",
     "output_type": "stream",
     "text": [
      "10 0\n"
     ]
    }
   ],
   "source": [
    "a = int(input())\n",
    "b = int(input())\n",
    "n = int(input())\n",
    "rub = n*(a * 100 + b) // 100\n",
    "kop = (n*(a * 100 + b) - rub*100) \n",
    "print(rub, kop)"
   ]
  },
  {
   "cell_type": "code",
   "execution_count": 56,
   "id": "d29cfbdb-a21e-4738-b5b7-24e7b8fce03f",
   "metadata": {},
   "outputs": [
    {
     "data": {
      "text/plain": [
       "4"
      ]
     },
     "execution_count": 56,
     "metadata": {},
     "output_type": "execute_result"
    }
   ],
   "source": [
    "30//7 + ((30%7)//7)"
   ]
  },
  {
   "cell_type": "code",
   "execution_count": 66,
   "id": "f479ae4f-1eff-4fdc-a8ea-390e46cb411e",
   "metadata": {},
   "outputs": [
    {
     "name": "stdin",
     "output_type": "stream",
     "text": [
      " 7\n",
      " 28\n"
     ]
    },
    {
     "name": "stdout",
     "output_type": "stream",
     "text": [
      "35\n"
     ]
    }
   ],
   "source": [
    "n = int(input())\n",
    "k = int(input())\n",
    "result = (((k//n)+1)*n) \n",
    "print(result)"
   ]
  },
  {
   "cell_type": "code",
   "execution_count": 68,
   "id": "a3f03938-41dc-48eb-a6d3-1f4c289e4f02",
   "metadata": {},
   "outputs": [
    {
     "name": "stdin",
     "output_type": "stream",
     "text": [
      " 700\n",
      " 2100\n"
     ]
    },
    {
     "name": "stdout",
     "output_type": "stream",
     "text": [
      "3\n"
     ]
    }
   ],
   "source": [
    "n = int(input())\n",
    "m = int(input())\n",
    "count_days = (m + n - 1) // n\n",
    "print(count_days)"
   ]
  },
  {
   "cell_type": "code",
   "execution_count": 70,
   "id": "25c60934-b709-4293-ad13-402b3cadb482",
   "metadata": {},
   "outputs": [
    {
     "name": "stdin",
     "output_type": "stream",
     "text": [
      " 17\n",
      " 22\n",
      " 23\n"
     ]
    },
    {
     "name": "stdout",
     "output_type": "stream",
     "text": [
      "32\n"
     ]
    }
   ],
   "source": [
    "m1 = int(input())\n",
    "m2 = int(input())\n",
    "m3 = int(input())\n",
    "print(m1 // 2 + m1 % 2 + m2 // 2 + m2 % 2 + m3 // 2 + m3 % 2)"
   ]
  },
  {
   "cell_type": "code",
   "execution_count": 73,
   "id": "92369a21-0917-49f8-ab18-d6d54ef48630",
   "metadata": {},
   "outputs": [
    {
     "name": "stdin",
     "output_type": "stream",
     "text": [
      " 50\n",
      " 100\n"
     ]
    },
    {
     "name": "stdout",
     "output_type": "stream",
     "text": [
      "2 50\n"
     ]
    }
   ],
   "source": [
    "k = int(input())\n",
    "n = int(input())\n",
    "print(n // k, k*(n // k - 1))"
   ]
  },
  {
   "cell_type": "code",
   "execution_count": 75,
   "id": "aedbd31b-df90-4b92-af75-85ba8c294455",
   "metadata": {},
   "outputs": [
    {
     "name": "stdin",
     "output_type": "stream",
     "text": [
      " 50\n",
      " 100\n"
     ]
    },
    {
     "name": "stdout",
     "output_type": "stream",
     "text": [
      "2 50\n"
     ]
    }
   ],
   "source": [
    "k = int(input())\n",
    "n = int(input())\n",
    "print((n-1) // k + 1, (n % k + k))"
   ]
  },
  {
   "cell_type": "code",
   "execution_count": 77,
   "id": "4592a7b1-9e04-43bd-954f-f0adab4fbea1",
   "metadata": {},
   "outputs": [
    {
     "name": "stdin",
     "output_type": "stream",
     "text": [
      " 1\n",
      " 1\n"
     ]
    },
    {
     "name": "stdout",
     "output_type": "stream",
     "text": [
      "1\n"
     ]
    }
   ],
   "source": [
    "n = int(input())\n",
    "m = int(input())\n",
    "print((n*m-1) // 2 + 1)"
   ]
  },
  {
   "cell_type": "code",
   "execution_count": 79,
   "id": "c00c3ab4-2b45-46b7-a3fa-ff59c55e18f4",
   "metadata": {},
   "outputs": [
    {
     "name": "stdin",
     "output_type": "stream",
     "text": [
      " 6\n"
     ]
    },
    {
     "name": "stdout",
     "output_type": "stream",
     "text": [
      "8\n"
     ]
    }
   ],
   "source": [
    "n = int(input())\n",
    "print((n // 2 + 1) * 2)"
   ]
  },
  {
   "cell_type": "code",
   "execution_count": 80,
   "id": "f552d2de-b6ed-41b3-8ec6-6c49d3364f69",
   "metadata": {},
   "outputs": [
    {
     "data": {
      "text/plain": [
       "5"
      ]
     },
     "execution_count": 80,
     "metadata": {},
     "output_type": "execute_result"
    }
   ],
   "source": [
    "5 % 8\n"
   ]
  },
  {
   "cell_type": "code",
   "execution_count": 82,
   "id": "4902eded-a7b5-44a6-8bdd-c535d0fc6702",
   "metadata": {},
   "outputs": [
    {
     "name": "stdin",
     "output_type": "stream",
     "text": [
      " 5\n"
     ]
    },
    {
     "name": "stdout",
     "output_type": "stream",
     "text": [
      "5\n"
     ]
    }
   ],
   "source": [
    "n = int(input())\n",
    "if n % 2 == 0:\n",
    "    print(n//2)\n",
    "else:\n",
    "    print(n)"
   ]
  },
  {
   "cell_type": "code",
   "execution_count": null,
   "id": "f250c3a8-2190-4af6-ae30-7d9a7c843632",
   "metadata": {},
   "outputs": [],
   "source": []
  },
  {
   "cell_type": "code",
   "execution_count": null,
   "id": "4a231cb8-6f70-4864-a542-70637f7dadaf",
   "metadata": {},
   "outputs": [],
   "source": []
  },
  {
   "cell_type": "code",
   "execution_count": null,
   "id": "e441917d-4233-4dde-baa3-8d443cb0ec9a",
   "metadata": {},
   "outputs": [],
   "source": []
  },
  {
   "cell_type": "code",
   "execution_count": null,
   "id": "9ea40b53-4f49-4c9f-be5b-f495698cc350",
   "metadata": {},
   "outputs": [],
   "source": []
  },
  {
   "cell_type": "code",
   "execution_count": null,
   "id": "6aba5f2d-6019-4df6-b3f0-b022e890ddc8",
   "metadata": {},
   "outputs": [],
   "source": []
  },
  {
   "cell_type": "code",
   "execution_count": null,
   "id": "9cc743fe-23d9-4847-b099-84c50ec1e4af",
   "metadata": {},
   "outputs": [],
   "source": []
  },
  {
   "cell_type": "code",
   "execution_count": null,
   "id": "cd7c1012-c42a-4e07-88a7-a36a5509e536",
   "metadata": {},
   "outputs": [],
   "source": []
  },
  {
   "cell_type": "code",
   "execution_count": null,
   "id": "9f2c9730-0eb4-41fc-aca4-bd9c72353c9d",
   "metadata": {},
   "outputs": [],
   "source": []
  },
  {
   "cell_type": "code",
   "execution_count": null,
   "id": "4883fece-293c-49a2-8d69-d154914cf47e",
   "metadata": {},
   "outputs": [],
   "source": []
  },
  {
   "cell_type": "code",
   "execution_count": null,
   "id": "989cbcc3-102e-4ead-89fb-749f47aed3b9",
   "metadata": {},
   "outputs": [],
   "source": []
  },
  {
   "cell_type": "code",
   "execution_count": null,
   "id": "069694d8-b0d3-40ab-83a7-48ed5a1e9863",
   "metadata": {},
   "outputs": [],
   "source": []
  },
  {
   "cell_type": "code",
   "execution_count": null,
   "id": "b4f5d62d-576c-4a2f-987f-f867b2029937",
   "metadata": {},
   "outputs": [],
   "source": []
  },
  {
   "cell_type": "code",
   "execution_count": null,
   "id": "719602eb-dd25-449d-8e27-5acf3f26ed4b",
   "metadata": {},
   "outputs": [],
   "source": []
  },
  {
   "cell_type": "code",
   "execution_count": null,
   "id": "4ed145d2-2a91-42e7-841f-f2dabb69baff",
   "metadata": {},
   "outputs": [],
   "source": []
  },
  {
   "cell_type": "code",
   "execution_count": null,
   "id": "708cda6d-9998-4572-ae1a-d30bbc5011f9",
   "metadata": {},
   "outputs": [],
   "source": []
  }
 ],
 "metadata": {
  "kernelspec": {
   "display_name": "Python 3 (ipykernel)",
   "language": "python",
   "name": "python3"
  },
  "language_info": {
   "codemirror_mode": {
    "name": "ipython",
    "version": 3
   },
   "file_extension": ".py",
   "mimetype": "text/x-python",
   "name": "python",
   "nbconvert_exporter": "python",
   "pygments_lexer": "ipython3",
   "version": "3.11.7"
  }
 },
 "nbformat": 4,
 "nbformat_minor": 5
}
