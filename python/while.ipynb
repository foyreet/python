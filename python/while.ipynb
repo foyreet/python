{
 "cells": [
  {
   "cell_type": "code",
   "execution_count": null,
   "id": "7fc4e9de-db64-41f0-ad9e-aa14c8d81663",
   "metadata": {},
   "outputs": [],
   "source": [
    "n = int(input())\n",
    "i = 1\n",
    "while i**2 <= n:\n",
    "    print(i**2)\n",
    "    i+=1"
   ]
  },
  {
   "cell_type": "code",
   "execution_count": null,
   "id": "2e3fb3c5-aa68-4653-978a-505b127f3e2d",
   "metadata": {},
   "outputs": [],
   "source": [
    "n = int(input())\n",
    "i = 0\n",
    "while (n+i) % 13 != 0:\n",
    "    print(n+i)\n",
    "    i+=1"
   ]
  },
  {
   "cell_type": "code",
   "execution_count": 20,
   "id": "0fb7bcfe-d89e-4d2d-befc-f5e0c0e507c4",
   "metadata": {},
   "outputs": [
    {
     "name": "stdin",
     "output_type": "stream",
     "text": [
      " 10\n"
     ]
    },
    {
     "name": "stdout",
     "output_type": "stream",
     "text": [
      "-1\n"
     ]
    }
   ],
   "source": [
    "n = int(input())\n",
    "count = 2\n",
    "fib_0 = 0\n",
    "fib_1 = 1\n",
    "is_fibbonacci = False\n",
    "while fib_1 <= n:\n",
    "    if fib_1 == n:\n",
    "        is_fibbonacci = True\n",
    "        break\n",
    "    fib_1 += fib_0\n",
    "    fib_0 = fib_1\n",
    "    count += 1\n",
    "\n",
    "if is_fibbonacci:\n",
    "    print(count)\n",
    "else:\n",
    "    print(-1)\n",
    "    "
   ]
  },
  {
   "cell_type": "code",
   "execution_count": null,
   "id": "44167f66-65d2-45f7-aa85-1b52ada8a246",
   "metadata": {},
   "outputs": [],
   "source": [
    "n = int(input())\n",
    "i = 1\n",
    "flag = False\n",
    "while i <= n:\n",
    "    if i == n:\n",
    "        flag = True\n",
    "        break\n",
    "    i*=2\n",
    "if flag:\n",
    "    print('YES')\n",
    "else:\n",
    "    print('NO')"
   ]
  },
  {
   "cell_type": "code",
   "execution_count": 33,
   "id": "c2a46423-ccbe-41a5-8f7e-5a1ddea79753",
   "metadata": {},
   "outputs": [
    {
     "name": "stdin",
     "output_type": "stream",
     "text": [
      " 100\n",
      " 10\n",
      " 200\n"
     ]
    },
    {
     "name": "stdout",
     "output_type": "stream",
     "text": [
      "0\n"
     ]
    }
   ],
   "source": [
    "x = int(input())\n",
    "p = int(input())\n",
    "y = int(input())\n",
    "count = 0\n",
    "i = 1\n",
    "while x * (((100 + p) // 100)) ** i >= y:\n",
    "    i += 1\n",
    "    count += 1\n",
    "print(count)"
   ]
  },
  {
   "cell_type": "code",
   "execution_count": 69,
   "id": "ae3f34c4-599d-4215-8c0d-f4df0e5fb6d4",
   "metadata": {},
   "outputs": [
    {
     "name": "stdin",
     "output_type": "stream",
     "text": [
      " 179\n"
     ]
    },
    {
     "name": "stdout",
     "output_type": "stream",
     "text": [
      "2\n"
     ]
    }
   ],
   "source": [
    "n = int(input())\n",
    "i = 2\n",
    "while n % i == 0:\n",
    "    i+=1\n",
    "print(i)"
   ]
  },
  {
   "cell_type": "code",
   "execution_count": null,
   "id": "3d1ac9a2-807b-49be-a557-1905c91aa75e",
   "metadata": {},
   "outputs": [],
   "source": []
  },
  {
   "cell_type": "code",
   "execution_count": null,
   "id": "f12ae809-cb6f-4835-aa38-2e4c2eace7ec",
   "metadata": {},
   "outputs": [],
   "source": []
  },
  {
   "cell_type": "code",
   "execution_count": null,
   "id": "b3fe9e3f-12e2-42cb-807a-bd1b6e9a274d",
   "metadata": {},
   "outputs": [],
   "source": []
  },
  {
   "cell_type": "code",
   "execution_count": null,
   "id": "9ad8135c-4412-49d4-990e-348a1916263e",
   "metadata": {},
   "outputs": [],
   "source": []
  },
  {
   "cell_type": "code",
   "execution_count": null,
   "id": "29059c6f-4e32-4c79-a94c-10b62efaf534",
   "metadata": {},
   "outputs": [],
   "source": []
  },
  {
   "cell_type": "code",
   "execution_count": null,
   "id": "b02bd02b-700b-4d8b-99ba-5fa9f16ae5b8",
   "metadata": {},
   "outputs": [],
   "source": []
  },
  {
   "cell_type": "code",
   "execution_count": null,
   "id": "13449365-438c-446f-8a74-184401bb741c",
   "metadata": {},
   "outputs": [],
   "source": []
  },
  {
   "cell_type": "code",
   "execution_count": null,
   "id": "112bfd5d-1d7d-4d3a-a097-f454795b659a",
   "metadata": {},
   "outputs": [],
   "source": []
  },
  {
   "cell_type": "code",
   "execution_count": null,
   "id": "2cfcf728-0f71-4acd-95c4-397effda0493",
   "metadata": {},
   "outputs": [],
   "source": []
  },
  {
   "cell_type": "code",
   "execution_count": null,
   "id": "c9de6e4c-e8e5-40cc-b3d5-ae007f198cd6",
   "metadata": {},
   "outputs": [],
   "source": []
  },
  {
   "cell_type": "code",
   "execution_count": null,
   "id": "f149b188-13b8-4b67-90d3-5ce04c8c900a",
   "metadata": {},
   "outputs": [],
   "source": []
  },
  {
   "cell_type": "code",
   "execution_count": null,
   "id": "0cbf6de8-3edb-4a80-b759-ac840c9c478f",
   "metadata": {},
   "outputs": [],
   "source": []
  },
  {
   "cell_type": "code",
   "execution_count": null,
   "id": "ce60bb05-bd0f-4351-940d-ff916dc9389d",
   "metadata": {},
   "outputs": [],
   "source": []
  }
 ],
 "metadata": {
  "kernelspec": {
   "display_name": "Python 3 (ipykernel)",
   "language": "python",
   "name": "python3"
  },
  "language_info": {
   "codemirror_mode": {
    "name": "ipython",
    "version": 3
   },
   "file_extension": ".py",
   "mimetype": "text/x-python",
   "name": "python",
   "nbconvert_exporter": "python",
   "pygments_lexer": "ipython3",
   "version": "3.11.7"
  }
 },
 "nbformat": 4,
 "nbformat_minor": 5
}
